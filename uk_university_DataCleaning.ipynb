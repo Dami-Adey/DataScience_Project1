{
  "nbformat": 4,
  "nbformat_minor": 0,
  "metadata": {
    "colab": {
      "provenance": [],
      "authorship_tag": "ABX9TyP5Jbm5U1lLbytd2Nlo5Vpj",
      "include_colab_link": true
    },
    "kernelspec": {
      "name": "python3",
      "display_name": "Python 3"
    },
    "language_info": {
      "name": "python"
    }
  },
  "cells": [
    {
      "cell_type": "markdown",
      "metadata": {
        "id": "view-in-github",
        "colab_type": "text"
      },
      "source": [
        "<a href=\"https://colab.research.google.com/github/Dami-Adey/DataScience_Project1/blob/main/uk_university_DataCleaning.ipynb\" target=\"_parent\"><img src=\"https://colab.research.google.com/assets/colab-badge.svg\" alt=\"Open In Colab\"/></a>"
      ]
    },
    {
      "cell_type": "markdown",
      "source": [
        "# Data Import and Initialisation"
      ],
      "metadata": {
        "id": "5UW0RlzM_pfT"
      }
    },
    {
      "cell_type": "code",
      "execution_count": 68,
      "metadata": {
        "id": "bN720CxR_EHZ"
      },
      "outputs": [],
      "source": [
        "# imports\n",
        "import pandas as pd\n",
        "import numpy as np\n",
        "import seaborn as sns\n",
        "from google.colab import files"
      ]
    },
    {
      "cell_type": "code",
      "source": [
        "# upload data\n",
        "uploaded = files.upload()"
      ],
      "metadata": {
        "colab": {
          "base_uri": "https://localhost:8080/",
          "height": 72
        },
        "id": "k6Otdgaa_Ysx",
        "outputId": "ad4ff74b-8ab5-4c8e-a16e-d4add823aacb"
      },
      "execution_count": 69,
      "outputs": [
        {
          "output_type": "display_data",
          "data": {
            "text/plain": [
              "<IPython.core.display.HTML object>"
            ],
            "text/html": [
              "\n",
              "     <input type=\"file\" id=\"files-1f496830-3c3f-4234-ab72-12772cb868c9\" name=\"files[]\" multiple disabled\n",
              "        style=\"border:none\" />\n",
              "     <output id=\"result-1f496830-3c3f-4234-ab72-12772cb868c9\">\n",
              "      Upload widget is only available when the cell has been executed in the\n",
              "      current browser session. Please rerun this cell to enable.\n",
              "      </output>\n",
              "      <script>// Copyright 2017 Google LLC\n",
              "//\n",
              "// Licensed under the Apache License, Version 2.0 (the \"License\");\n",
              "// you may not use this file except in compliance with the License.\n",
              "// You may obtain a copy of the License at\n",
              "//\n",
              "//      http://www.apache.org/licenses/LICENSE-2.0\n",
              "//\n",
              "// Unless required by applicable law or agreed to in writing, software\n",
              "// distributed under the License is distributed on an \"AS IS\" BASIS,\n",
              "// WITHOUT WARRANTIES OR CONDITIONS OF ANY KIND, either express or implied.\n",
              "// See the License for the specific language governing permissions and\n",
              "// limitations under the License.\n",
              "\n",
              "/**\n",
              " * @fileoverview Helpers for google.colab Python module.\n",
              " */\n",
              "(function(scope) {\n",
              "function span(text, styleAttributes = {}) {\n",
              "  const element = document.createElement('span');\n",
              "  element.textContent = text;\n",
              "  for (const key of Object.keys(styleAttributes)) {\n",
              "    element.style[key] = styleAttributes[key];\n",
              "  }\n",
              "  return element;\n",
              "}\n",
              "\n",
              "// Max number of bytes which will be uploaded at a time.\n",
              "const MAX_PAYLOAD_SIZE = 100 * 1024;\n",
              "\n",
              "function _uploadFiles(inputId, outputId) {\n",
              "  const steps = uploadFilesStep(inputId, outputId);\n",
              "  const outputElement = document.getElementById(outputId);\n",
              "  // Cache steps on the outputElement to make it available for the next call\n",
              "  // to uploadFilesContinue from Python.\n",
              "  outputElement.steps = steps;\n",
              "\n",
              "  return _uploadFilesContinue(outputId);\n",
              "}\n",
              "\n",
              "// This is roughly an async generator (not supported in the browser yet),\n",
              "// where there are multiple asynchronous steps and the Python side is going\n",
              "// to poll for completion of each step.\n",
              "// This uses a Promise to block the python side on completion of each step,\n",
              "// then passes the result of the previous step as the input to the next step.\n",
              "function _uploadFilesContinue(outputId) {\n",
              "  const outputElement = document.getElementById(outputId);\n",
              "  const steps = outputElement.steps;\n",
              "\n",
              "  const next = steps.next(outputElement.lastPromiseValue);\n",
              "  return Promise.resolve(next.value.promise).then((value) => {\n",
              "    // Cache the last promise value to make it available to the next\n",
              "    // step of the generator.\n",
              "    outputElement.lastPromiseValue = value;\n",
              "    return next.value.response;\n",
              "  });\n",
              "}\n",
              "\n",
              "/**\n",
              " * Generator function which is called between each async step of the upload\n",
              " * process.\n",
              " * @param {string} inputId Element ID of the input file picker element.\n",
              " * @param {string} outputId Element ID of the output display.\n",
              " * @return {!Iterable<!Object>} Iterable of next steps.\n",
              " */\n",
              "function* uploadFilesStep(inputId, outputId) {\n",
              "  const inputElement = document.getElementById(inputId);\n",
              "  inputElement.disabled = false;\n",
              "\n",
              "  const outputElement = document.getElementById(outputId);\n",
              "  outputElement.innerHTML = '';\n",
              "\n",
              "  const pickedPromise = new Promise((resolve) => {\n",
              "    inputElement.addEventListener('change', (e) => {\n",
              "      resolve(e.target.files);\n",
              "    });\n",
              "  });\n",
              "\n",
              "  const cancel = document.createElement('button');\n",
              "  inputElement.parentElement.appendChild(cancel);\n",
              "  cancel.textContent = 'Cancel upload';\n",
              "  const cancelPromise = new Promise((resolve) => {\n",
              "    cancel.onclick = () => {\n",
              "      resolve(null);\n",
              "    };\n",
              "  });\n",
              "\n",
              "  // Wait for the user to pick the files.\n",
              "  const files = yield {\n",
              "    promise: Promise.race([pickedPromise, cancelPromise]),\n",
              "    response: {\n",
              "      action: 'starting',\n",
              "    }\n",
              "  };\n",
              "\n",
              "  cancel.remove();\n",
              "\n",
              "  // Disable the input element since further picks are not allowed.\n",
              "  inputElement.disabled = true;\n",
              "\n",
              "  if (!files) {\n",
              "    return {\n",
              "      response: {\n",
              "        action: 'complete',\n",
              "      }\n",
              "    };\n",
              "  }\n",
              "\n",
              "  for (const file of files) {\n",
              "    const li = document.createElement('li');\n",
              "    li.append(span(file.name, {fontWeight: 'bold'}));\n",
              "    li.append(span(\n",
              "        `(${file.type || 'n/a'}) - ${file.size} bytes, ` +\n",
              "        `last modified: ${\n",
              "            file.lastModifiedDate ? file.lastModifiedDate.toLocaleDateString() :\n",
              "                                    'n/a'} - `));\n",
              "    const percent = span('0% done');\n",
              "    li.appendChild(percent);\n",
              "\n",
              "    outputElement.appendChild(li);\n",
              "\n",
              "    const fileDataPromise = new Promise((resolve) => {\n",
              "      const reader = new FileReader();\n",
              "      reader.onload = (e) => {\n",
              "        resolve(e.target.result);\n",
              "      };\n",
              "      reader.readAsArrayBuffer(file);\n",
              "    });\n",
              "    // Wait for the data to be ready.\n",
              "    let fileData = yield {\n",
              "      promise: fileDataPromise,\n",
              "      response: {\n",
              "        action: 'continue',\n",
              "      }\n",
              "    };\n",
              "\n",
              "    // Use a chunked sending to avoid message size limits. See b/62115660.\n",
              "    let position = 0;\n",
              "    do {\n",
              "      const length = Math.min(fileData.byteLength - position, MAX_PAYLOAD_SIZE);\n",
              "      const chunk = new Uint8Array(fileData, position, length);\n",
              "      position += length;\n",
              "\n",
              "      const base64 = btoa(String.fromCharCode.apply(null, chunk));\n",
              "      yield {\n",
              "        response: {\n",
              "          action: 'append',\n",
              "          file: file.name,\n",
              "          data: base64,\n",
              "        },\n",
              "      };\n",
              "\n",
              "      let percentDone = fileData.byteLength === 0 ?\n",
              "          100 :\n",
              "          Math.round((position / fileData.byteLength) * 100);\n",
              "      percent.textContent = `${percentDone}% done`;\n",
              "\n",
              "    } while (position < fileData.byteLength);\n",
              "  }\n",
              "\n",
              "  // All done.\n",
              "  yield {\n",
              "    response: {\n",
              "      action: 'complete',\n",
              "    }\n",
              "  };\n",
              "}\n",
              "\n",
              "scope.google = scope.google || {};\n",
              "scope.google.colab = scope.google.colab || {};\n",
              "scope.google.colab._files = {\n",
              "  _uploadFiles,\n",
              "  _uploadFilesContinue,\n",
              "};\n",
              "})(self);\n",
              "</script> "
            ]
          },
          "metadata": {}
        },
        {
          "output_type": "stream",
          "name": "stdout",
          "text": [
            "Saving uk_universities.csv to uk_universities (2).csv\n"
          ]
        }
      ]
    },
    {
      "cell_type": "code",
      "source": [
        "# initialise dataframe\n",
        "df = pd.read_csv('uk_universities.csv')\n",
        "df.head()"
      ],
      "metadata": {
        "colab": {
          "base_uri": "https://localhost:8080/",
          "height": 543
        },
        "id": "g0vPnY7y_Yow",
        "outputId": "81922155-11fa-4ed1-e09b-69ac89516cb3"
      },
      "execution_count": 70,
      "outputs": [
        {
          "output_type": "execute_result",
          "data": {
            "text/plain": [
              "            University_name              Region  Founded_year  \\\n",
              "0   University of Cambridge     East of England          1209   \n",
              "1      University of Oxford  South East England          1096   \n",
              "2  University of St Andrews            Scotland          1413   \n",
              "3   Imperial College London              London          1907   \n",
              "4   Loughborough University       East Midlands          1966   \n",
              "\n",
              "                                               Motto  UK_rank  World_rank  \\\n",
              "0               From here, light and sacred draughts        1           4   \n",
              "1                               The Lord is my light        2           2   \n",
              "2                                      Ever to excel        3          86   \n",
              "3  Knowledge is the adornment and safeguard of th...        4           8   \n",
              "4                   With Truth, Knowledge and Labour        5         404   \n",
              "\n",
              "   CWUR_score  Minimum_IELTS_score  UG_average_fees_(in_pounds)  \\\n",
              "0        94.1                  6.5                        21750   \n",
              "1        93.3                  6.5                        21770   \n",
              "2        75.8                  6.5                        17040   \n",
              "3        86.6                  6.5                        23500   \n",
              "4        72.8                  5.5                        16400   \n",
              "\n",
              "   PG_average_fees_(in_pounds)  ... Student_satisfaction Student_enrollment  \\\n",
              "0                        23187  ...               85.50%      20,000-24,999   \n",
              "1                        19888  ...               86.50%      25,000-29,999   \n",
              "2                        15440  ...               87.90%      10,000-14,999   \n",
              "3                        29900  ...               77.90%      15,000-19,999   \n",
              "4                        16400  ...               85.80%      15,000-19,999   \n",
              "\n",
              "  Academic_staff Control_type Academic_Calender Campus_setting  \\\n",
              "0     over-5,000       Public        Trimesters          Urban   \n",
              "1     over-5,000       Public        Trimesters          Urban   \n",
              "2    1,000-1,499       Public         Semesters       Suburban   \n",
              "3    4,000-4,499       Public        Continuous          Urban   \n",
              "4    1,500-1,999       Public         Semesters       Suburban   \n",
              "\n",
              "  Estimated_cost_of_living_per_year_(in_pounds)  Latitude  Longitude  \\\n",
              "0                                         12000   52.2054     0.1132   \n",
              "1                                         11500   51.7548    -1.2544   \n",
              "2                                         12000   56.3417    -2.7943   \n",
              "3                                         10700   51.4988    -0.1749   \n",
              "4                                          9398   52.7650    -1.2321   \n",
              "\n",
              "                Website  \n",
              "0         www.cam.ac.uk  \n",
              "1          www.ox.ac.uk  \n",
              "2  www.st-andrews.ac.uk  \n",
              "3          www.ic.ac.uk  \n",
              "4      www.lboro.ac.uk/  \n",
              "\n",
              "[5 rows x 21 columns]"
            ],
            "text/html": [
              "\n",
              "  <div id=\"df-36893b34-fa91-4bd1-a9c5-99b93f5fcb99\">\n",
              "    <div class=\"colab-df-container\">\n",
              "      <div>\n",
              "<style scoped>\n",
              "    .dataframe tbody tr th:only-of-type {\n",
              "        vertical-align: middle;\n",
              "    }\n",
              "\n",
              "    .dataframe tbody tr th {\n",
              "        vertical-align: top;\n",
              "    }\n",
              "\n",
              "    .dataframe thead th {\n",
              "        text-align: right;\n",
              "    }\n",
              "</style>\n",
              "<table border=\"1\" class=\"dataframe\">\n",
              "  <thead>\n",
              "    <tr style=\"text-align: right;\">\n",
              "      <th></th>\n",
              "      <th>University_name</th>\n",
              "      <th>Region</th>\n",
              "      <th>Founded_year</th>\n",
              "      <th>Motto</th>\n",
              "      <th>UK_rank</th>\n",
              "      <th>World_rank</th>\n",
              "      <th>CWUR_score</th>\n",
              "      <th>Minimum_IELTS_score</th>\n",
              "      <th>UG_average_fees_(in_pounds)</th>\n",
              "      <th>PG_average_fees_(in_pounds)</th>\n",
              "      <th>...</th>\n",
              "      <th>Student_satisfaction</th>\n",
              "      <th>Student_enrollment</th>\n",
              "      <th>Academic_staff</th>\n",
              "      <th>Control_type</th>\n",
              "      <th>Academic_Calender</th>\n",
              "      <th>Campus_setting</th>\n",
              "      <th>Estimated_cost_of_living_per_year_(in_pounds)</th>\n",
              "      <th>Latitude</th>\n",
              "      <th>Longitude</th>\n",
              "      <th>Website</th>\n",
              "    </tr>\n",
              "  </thead>\n",
              "  <tbody>\n",
              "    <tr>\n",
              "      <th>0</th>\n",
              "      <td>University of Cambridge</td>\n",
              "      <td>East of England</td>\n",
              "      <td>1209</td>\n",
              "      <td>From here, light and sacred draughts</td>\n",
              "      <td>1</td>\n",
              "      <td>4</td>\n",
              "      <td>94.1</td>\n",
              "      <td>6.5</td>\n",
              "      <td>21750</td>\n",
              "      <td>23187</td>\n",
              "      <td>...</td>\n",
              "      <td>85.50%</td>\n",
              "      <td>20,000-24,999</td>\n",
              "      <td>over-5,000</td>\n",
              "      <td>Public</td>\n",
              "      <td>Trimesters</td>\n",
              "      <td>Urban</td>\n",
              "      <td>12000</td>\n",
              "      <td>52.2054</td>\n",
              "      <td>0.1132</td>\n",
              "      <td>www.cam.ac.uk</td>\n",
              "    </tr>\n",
              "    <tr>\n",
              "      <th>1</th>\n",
              "      <td>University of Oxford</td>\n",
              "      <td>South East England</td>\n",
              "      <td>1096</td>\n",
              "      <td>The Lord is my light</td>\n",
              "      <td>2</td>\n",
              "      <td>2</td>\n",
              "      <td>93.3</td>\n",
              "      <td>6.5</td>\n",
              "      <td>21770</td>\n",
              "      <td>19888</td>\n",
              "      <td>...</td>\n",
              "      <td>86.50%</td>\n",
              "      <td>25,000-29,999</td>\n",
              "      <td>over-5,000</td>\n",
              "      <td>Public</td>\n",
              "      <td>Trimesters</td>\n",
              "      <td>Urban</td>\n",
              "      <td>11500</td>\n",
              "      <td>51.7548</td>\n",
              "      <td>-1.2544</td>\n",
              "      <td>www.ox.ac.uk</td>\n",
              "    </tr>\n",
              "    <tr>\n",
              "      <th>2</th>\n",
              "      <td>University of St Andrews</td>\n",
              "      <td>Scotland</td>\n",
              "      <td>1413</td>\n",
              "      <td>Ever to excel</td>\n",
              "      <td>3</td>\n",
              "      <td>86</td>\n",
              "      <td>75.8</td>\n",
              "      <td>6.5</td>\n",
              "      <td>17040</td>\n",
              "      <td>15440</td>\n",
              "      <td>...</td>\n",
              "      <td>87.90%</td>\n",
              "      <td>10,000-14,999</td>\n",
              "      <td>1,000-1,499</td>\n",
              "      <td>Public</td>\n",
              "      <td>Semesters</td>\n",
              "      <td>Suburban</td>\n",
              "      <td>12000</td>\n",
              "      <td>56.3417</td>\n",
              "      <td>-2.7943</td>\n",
              "      <td>www.st-andrews.ac.uk</td>\n",
              "    </tr>\n",
              "    <tr>\n",
              "      <th>3</th>\n",
              "      <td>Imperial College London</td>\n",
              "      <td>London</td>\n",
              "      <td>1907</td>\n",
              "      <td>Knowledge is the adornment and safeguard of th...</td>\n",
              "      <td>4</td>\n",
              "      <td>8</td>\n",
              "      <td>86.6</td>\n",
              "      <td>6.5</td>\n",
              "      <td>23500</td>\n",
              "      <td>29900</td>\n",
              "      <td>...</td>\n",
              "      <td>77.90%</td>\n",
              "      <td>15,000-19,999</td>\n",
              "      <td>4,000-4,499</td>\n",
              "      <td>Public</td>\n",
              "      <td>Continuous</td>\n",
              "      <td>Urban</td>\n",
              "      <td>10700</td>\n",
              "      <td>51.4988</td>\n",
              "      <td>-0.1749</td>\n",
              "      <td>www.ic.ac.uk</td>\n",
              "    </tr>\n",
              "    <tr>\n",
              "      <th>4</th>\n",
              "      <td>Loughborough University</td>\n",
              "      <td>East Midlands</td>\n",
              "      <td>1966</td>\n",
              "      <td>With Truth, Knowledge and Labour</td>\n",
              "      <td>5</td>\n",
              "      <td>404</td>\n",
              "      <td>72.8</td>\n",
              "      <td>5.5</td>\n",
              "      <td>16400</td>\n",
              "      <td>16400</td>\n",
              "      <td>...</td>\n",
              "      <td>85.80%</td>\n",
              "      <td>15,000-19,999</td>\n",
              "      <td>1,500-1,999</td>\n",
              "      <td>Public</td>\n",
              "      <td>Semesters</td>\n",
              "      <td>Suburban</td>\n",
              "      <td>9398</td>\n",
              "      <td>52.7650</td>\n",
              "      <td>-1.2321</td>\n",
              "      <td>www.lboro.ac.uk/</td>\n",
              "    </tr>\n",
              "  </tbody>\n",
              "</table>\n",
              "<p>5 rows × 21 columns</p>\n",
              "</div>\n",
              "      <button class=\"colab-df-convert\" onclick=\"convertToInteractive('df-36893b34-fa91-4bd1-a9c5-99b93f5fcb99')\"\n",
              "              title=\"Convert this dataframe to an interactive table.\"\n",
              "              style=\"display:none;\">\n",
              "        \n",
              "  <svg xmlns=\"http://www.w3.org/2000/svg\" height=\"24px\"viewBox=\"0 0 24 24\"\n",
              "       width=\"24px\">\n",
              "    <path d=\"M0 0h24v24H0V0z\" fill=\"none\"/>\n",
              "    <path d=\"M18.56 5.44l.94 2.06.94-2.06 2.06-.94-2.06-.94-.94-2.06-.94 2.06-2.06.94zm-11 1L8.5 8.5l.94-2.06 2.06-.94-2.06-.94L8.5 2.5l-.94 2.06-2.06.94zm10 10l.94 2.06.94-2.06 2.06-.94-2.06-.94-.94-2.06-.94 2.06-2.06.94z\"/><path d=\"M17.41 7.96l-1.37-1.37c-.4-.4-.92-.59-1.43-.59-.52 0-1.04.2-1.43.59L10.3 9.45l-7.72 7.72c-.78.78-.78 2.05 0 2.83L4 21.41c.39.39.9.59 1.41.59.51 0 1.02-.2 1.41-.59l7.78-7.78 2.81-2.81c.8-.78.8-2.07 0-2.86zM5.41 20L4 18.59l7.72-7.72 1.47 1.35L5.41 20z\"/>\n",
              "  </svg>\n",
              "      </button>\n",
              "      \n",
              "  <style>\n",
              "    .colab-df-container {\n",
              "      display:flex;\n",
              "      flex-wrap:wrap;\n",
              "      gap: 12px;\n",
              "    }\n",
              "\n",
              "    .colab-df-convert {\n",
              "      background-color: #E8F0FE;\n",
              "      border: none;\n",
              "      border-radius: 50%;\n",
              "      cursor: pointer;\n",
              "      display: none;\n",
              "      fill: #1967D2;\n",
              "      height: 32px;\n",
              "      padding: 0 0 0 0;\n",
              "      width: 32px;\n",
              "    }\n",
              "\n",
              "    .colab-df-convert:hover {\n",
              "      background-color: #E2EBFA;\n",
              "      box-shadow: 0px 1px 2px rgba(60, 64, 67, 0.3), 0px 1px 3px 1px rgba(60, 64, 67, 0.15);\n",
              "      fill: #174EA6;\n",
              "    }\n",
              "\n",
              "    [theme=dark] .colab-df-convert {\n",
              "      background-color: #3B4455;\n",
              "      fill: #D2E3FC;\n",
              "    }\n",
              "\n",
              "    [theme=dark] .colab-df-convert:hover {\n",
              "      background-color: #434B5C;\n",
              "      box-shadow: 0px 1px 3px 1px rgba(0, 0, 0, 0.15);\n",
              "      filter: drop-shadow(0px 1px 2px rgba(0, 0, 0, 0.3));\n",
              "      fill: #FFFFFF;\n",
              "    }\n",
              "  </style>\n",
              "\n",
              "      <script>\n",
              "        const buttonEl =\n",
              "          document.querySelector('#df-36893b34-fa91-4bd1-a9c5-99b93f5fcb99 button.colab-df-convert');\n",
              "        buttonEl.style.display =\n",
              "          google.colab.kernel.accessAllowed ? 'block' : 'none';\n",
              "\n",
              "        async function convertToInteractive(key) {\n",
              "          const element = document.querySelector('#df-36893b34-fa91-4bd1-a9c5-99b93f5fcb99');\n",
              "          const dataTable =\n",
              "            await google.colab.kernel.invokeFunction('convertToInteractive',\n",
              "                                                     [key], {});\n",
              "          if (!dataTable) return;\n",
              "\n",
              "          const docLinkHtml = 'Like what you see? Visit the ' +\n",
              "            '<a target=\"_blank\" href=https://colab.research.google.com/notebooks/data_table.ipynb>data table notebook</a>'\n",
              "            + ' to learn more about interactive tables.';\n",
              "          element.innerHTML = '';\n",
              "          dataTable['output_type'] = 'display_data';\n",
              "          await google.colab.output.renderOutput(dataTable, element);\n",
              "          const docLink = document.createElement('div');\n",
              "          docLink.innerHTML = docLinkHtml;\n",
              "          element.appendChild(docLink);\n",
              "        }\n",
              "      </script>\n",
              "    </div>\n",
              "  </div>\n",
              "  "
            ]
          },
          "metadata": {},
          "execution_count": 70
        }
      ]
    },
    {
      "cell_type": "code",
      "source": [
        "# inspect data\n",
        "df.info()"
      ],
      "metadata": {
        "colab": {
          "base_uri": "https://localhost:8080/"
        },
        "id": "OLKALcOK_Ylr",
        "outputId": "d1072b7b-cefc-4bdd-c347-20271316864a"
      },
      "execution_count": 71,
      "outputs": [
        {
          "output_type": "stream",
          "name": "stdout",
          "text": [
            "<class 'pandas.core.frame.DataFrame'>\n",
            "RangeIndex: 131 entries, 0 to 130\n",
            "Data columns (total 21 columns):\n",
            " #   Column                                         Non-Null Count  Dtype  \n",
            "---  ------                                         --------------  -----  \n",
            " 0   University_name                                131 non-null    object \n",
            " 1   Region                                         131 non-null    object \n",
            " 2   Founded_year                                   131 non-null    int64  \n",
            " 3   Motto                                          114 non-null    object \n",
            " 4   UK_rank                                        131 non-null    int64  \n",
            " 5   World_rank                                     131 non-null    int64  \n",
            " 6   CWUR_score                                     84 non-null     float64\n",
            " 7   Minimum_IELTS_score                            131 non-null    float64\n",
            " 8   UG_average_fees_(in_pounds)                    131 non-null    int64  \n",
            " 9   PG_average_fees_(in_pounds)                    131 non-null    int64  \n",
            " 10  International_students                         131 non-null    object \n",
            " 11  Student_satisfaction                           131 non-null    object \n",
            " 12  Student_enrollment                             131 non-null    object \n",
            " 13  Academic_staff                                 131 non-null    object \n",
            " 14  Control_type                                   131 non-null    object \n",
            " 15  Academic_Calender                              105 non-null    object \n",
            " 16  Campus_setting                                 113 non-null    object \n",
            " 17  Estimated_cost_of_living_per_year_(in_pounds)  131 non-null    int64  \n",
            " 18  Latitude                                       131 non-null    float64\n",
            " 19  Longitude                                      131 non-null    float64\n",
            " 20  Website                                        131 non-null    object \n",
            "dtypes: float64(4), int64(6), object(11)\n",
            "memory usage: 21.6+ KB\n"
          ]
        }
      ]
    },
    {
      "cell_type": "code",
      "source": [
        "# dataframe shape\n",
        "print(f'Dataset has {df.shape[0]} rows and {df.shape[1]} columns')"
      ],
      "metadata": {
        "colab": {
          "base_uri": "https://localhost:8080/"
        },
        "id": "n8A0NgljDzvZ",
        "outputId": "149adbb6-ff53-427e-8ba8-37676056df63"
      },
      "execution_count": 72,
      "outputs": [
        {
          "output_type": "stream",
          "name": "stdout",
          "text": [
            "Dataset has 131 rows and 21 columns\n"
          ]
        }
      ]
    },
    {
      "cell_type": "markdown",
      "source": [
        "# Data Cleaning"
      ],
      "metadata": {
        "id": "S7dL_7V6EdiR"
      }
    },
    {
      "cell_type": "markdown",
      "source": [
        "### Initial Comments and Insights\n",
        "\n",
        "- Only one entry per university? \n",
        "  - If yes, are these all for the same year?\n",
        "- Some null data in '**Motto**', '**CWUR_score**', '**Academic_Calendar**', and '**Campus_setting**'.\n",
        "  - Review the significance of these features.\n",
        "- Some numerical data currently represented as string objects.\n",
        "  - Column indexs 10-16"
      ],
      "metadata": {
        "id": "thDmP6ahBYfR"
      }
    },
    {
      "cell_type": "markdown",
      "source": [
        "## Only one entry per university?"
      ],
      "metadata": {
        "id": "-oxTuNjKGsVr"
      }
    },
    {
      "cell_type": "code",
      "source": [
        "df['University_name'].value_counts()"
      ],
      "metadata": {
        "colab": {
          "base_uri": "https://localhost:8080/"
        },
        "id": "t28WK5sU_YiM",
        "outputId": "e37a5b19-35bf-40c5-8c38-e4800594d8ac"
      },
      "execution_count": 73,
      "outputs": [
        {
          "output_type": "execute_result",
          "data": {
            "text/plain": [
              "University of Cambridge           1\n",
              "Abertay University                1\n",
              "Glasgow Caledonian University     1\n",
              "Birmingham City University        1\n",
              "University of Gloucestershire     1\n",
              "                                 ..\n",
              "University of Reading             1\n",
              "University of Sussex              1\n",
              "University of Essex               1\n",
              "University of Strathclyde         1\n",
              "Ravensbourne University London    1\n",
              "Name: University_name, Length: 131, dtype: int64"
            ]
          },
          "metadata": {},
          "execution_count": 73
        }
      ]
    },
    {
      "cell_type": "markdown",
      "source": [
        "There are 131 unique university names. This matches the length of the dataframe suggesting that each university is represented only once each. "
      ],
      "metadata": {
        "id": "Hf5jxl3XHizB"
      }
    },
    {
      "cell_type": "markdown",
      "source": [
        "## Missing Data"
      ],
      "metadata": {
        "id": "u4K2hzBMHRUp"
      }
    },
    {
      "cell_type": "markdown",
      "source": [
        "Now let's check to see how much data is missing from the set."
      ],
      "metadata": {
        "id": "IptNn9JxZJmE"
      }
    },
    {
      "cell_type": "code",
      "source": [
        "# check the number of null entries in each column\n",
        "df.isnull().sum()"
      ],
      "metadata": {
        "colab": {
          "base_uri": "https://localhost:8080/"
        },
        "id": "oNRrwzhJ_X1v",
        "outputId": "270bf906-04a5-453e-a611-1a9707404b52"
      },
      "execution_count": 74,
      "outputs": [
        {
          "output_type": "execute_result",
          "data": {
            "text/plain": [
              "University_name                                   0\n",
              "Region                                            0\n",
              "Founded_year                                      0\n",
              "Motto                                            17\n",
              "UK_rank                                           0\n",
              "World_rank                                        0\n",
              "CWUR_score                                       47\n",
              "Minimum_IELTS_score                               0\n",
              "UG_average_fees_(in_pounds)                       0\n",
              "PG_average_fees_(in_pounds)                       0\n",
              "International_students                            0\n",
              "Student_satisfaction                              0\n",
              "Student_enrollment                                0\n",
              "Academic_staff                                    0\n",
              "Control_type                                      0\n",
              "Academic_Calender                                26\n",
              "Campus_setting                                   18\n",
              "Estimated_cost_of_living_per_year_(in_pounds)     0\n",
              "Latitude                                          0\n",
              "Longitude                                         0\n",
              "Website                                           0\n",
              "dtype: int64"
            ]
          },
          "metadata": {},
          "execution_count": 74
        }
      ]
    },
    {
      "cell_type": "markdown",
      "source": [
        "Might be more intuitive to look at the percentage of data missing for each case."
      ],
      "metadata": {
        "id": "Kbt2srWeOJTb"
      }
    },
    {
      "cell_type": "code",
      "source": [
        "# percentage view\n",
        "df.isna().sum() * 100/ df.shape[0]"
      ],
      "metadata": {
        "colab": {
          "base_uri": "https://localhost:8080/"
        },
        "id": "rsddRy4xOAHC",
        "outputId": "2f2165f1-6028-474f-a8fb-8ecad7f0ffa0"
      },
      "execution_count": 75,
      "outputs": [
        {
          "output_type": "execute_result",
          "data": {
            "text/plain": [
              "University_name                                   0.000000\n",
              "Region                                            0.000000\n",
              "Founded_year                                      0.000000\n",
              "Motto                                            12.977099\n",
              "UK_rank                                           0.000000\n",
              "World_rank                                        0.000000\n",
              "CWUR_score                                       35.877863\n",
              "Minimum_IELTS_score                               0.000000\n",
              "UG_average_fees_(in_pounds)                       0.000000\n",
              "PG_average_fees_(in_pounds)                       0.000000\n",
              "International_students                            0.000000\n",
              "Student_satisfaction                              0.000000\n",
              "Student_enrollment                                0.000000\n",
              "Academic_staff                                    0.000000\n",
              "Control_type                                      0.000000\n",
              "Academic_Calender                                19.847328\n",
              "Campus_setting                                   13.740458\n",
              "Estimated_cost_of_living_per_year_(in_pounds)     0.000000\n",
              "Latitude                                          0.000000\n",
              "Longitude                                         0.000000\n",
              "Website                                           0.000000\n",
              "dtype: float64"
            ]
          },
          "metadata": {},
          "execution_count": 75
        }
      ]
    },
    {
      "cell_type": "markdown",
      "source": [
        "4 columns with missing values. We'll start by dropping the 'Motto' column outright since it's quite an arbitrary feature. Ultimately we could circle back on this once our foundation in NLP is a bit stronger. For now, we'll assume that the motto has little analytical relevance."
      ],
      "metadata": {
        "id": "a4HsI7jcJkEx"
      }
    },
    {
      "cell_type": "markdown",
      "source": [
        "### The '**Motto**' Column"
      ],
      "metadata": {
        "id": "2G7x_K6kLZsq"
      }
    },
    {
      "cell_type": "code",
      "source": [
        "# drop the motto column\n",
        "df = df.drop('Motto', axis=1)\n",
        "df.head()"
      ],
      "metadata": {
        "colab": {
          "base_uri": "https://localhost:8080/",
          "height": 375
        },
        "id": "NSE5lLKk_XyU",
        "outputId": "9f88b2d1-7bcb-4f18-a13e-0922e2b4b4d1"
      },
      "execution_count": 76,
      "outputs": [
        {
          "output_type": "execute_result",
          "data": {
            "text/plain": [
              "            University_name              Region  Founded_year  UK_rank  \\\n",
              "0   University of Cambridge     East of England          1209        1   \n",
              "1      University of Oxford  South East England          1096        2   \n",
              "2  University of St Andrews            Scotland          1413        3   \n",
              "3   Imperial College London              London          1907        4   \n",
              "4   Loughborough University       East Midlands          1966        5   \n",
              "\n",
              "   World_rank  CWUR_score  Minimum_IELTS_score  UG_average_fees_(in_pounds)  \\\n",
              "0           4        94.1                  6.5                        21750   \n",
              "1           2        93.3                  6.5                        21770   \n",
              "2          86        75.8                  6.5                        17040   \n",
              "3           8        86.6                  6.5                        23500   \n",
              "4         404        72.8                  5.5                        16400   \n",
              "\n",
              "   PG_average_fees_(in_pounds) International_students Student_satisfaction  \\\n",
              "0                        23187                 20.20%               85.50%   \n",
              "1                        19888                 16.80%               86.50%   \n",
              "2                        15440                 40.40%               87.90%   \n",
              "3                        29900                 41.40%               77.90%   \n",
              "4                        16400                 22.00%               85.80%   \n",
              "\n",
              "  Student_enrollment Academic_staff Control_type Academic_Calender  \\\n",
              "0      20,000-24,999     over-5,000       Public        Trimesters   \n",
              "1      25,000-29,999     over-5,000       Public        Trimesters   \n",
              "2      10,000-14,999    1,000-1,499       Public         Semesters   \n",
              "3      15,000-19,999    4,000-4,499       Public        Continuous   \n",
              "4      15,000-19,999    1,500-1,999       Public         Semesters   \n",
              "\n",
              "  Campus_setting  Estimated_cost_of_living_per_year_(in_pounds)  Latitude  \\\n",
              "0          Urban                                          12000   52.2054   \n",
              "1          Urban                                          11500   51.7548   \n",
              "2       Suburban                                          12000   56.3417   \n",
              "3          Urban                                          10700   51.4988   \n",
              "4       Suburban                                           9398   52.7650   \n",
              "\n",
              "   Longitude               Website  \n",
              "0     0.1132         www.cam.ac.uk  \n",
              "1    -1.2544          www.ox.ac.uk  \n",
              "2    -2.7943  www.st-andrews.ac.uk  \n",
              "3    -0.1749          www.ic.ac.uk  \n",
              "4    -1.2321      www.lboro.ac.uk/  "
            ],
            "text/html": [
              "\n",
              "  <div id=\"df-c63c6504-29cc-447c-8f95-6d9de9bd5fd8\">\n",
              "    <div class=\"colab-df-container\">\n",
              "      <div>\n",
              "<style scoped>\n",
              "    .dataframe tbody tr th:only-of-type {\n",
              "        vertical-align: middle;\n",
              "    }\n",
              "\n",
              "    .dataframe tbody tr th {\n",
              "        vertical-align: top;\n",
              "    }\n",
              "\n",
              "    .dataframe thead th {\n",
              "        text-align: right;\n",
              "    }\n",
              "</style>\n",
              "<table border=\"1\" class=\"dataframe\">\n",
              "  <thead>\n",
              "    <tr style=\"text-align: right;\">\n",
              "      <th></th>\n",
              "      <th>University_name</th>\n",
              "      <th>Region</th>\n",
              "      <th>Founded_year</th>\n",
              "      <th>UK_rank</th>\n",
              "      <th>World_rank</th>\n",
              "      <th>CWUR_score</th>\n",
              "      <th>Minimum_IELTS_score</th>\n",
              "      <th>UG_average_fees_(in_pounds)</th>\n",
              "      <th>PG_average_fees_(in_pounds)</th>\n",
              "      <th>International_students</th>\n",
              "      <th>Student_satisfaction</th>\n",
              "      <th>Student_enrollment</th>\n",
              "      <th>Academic_staff</th>\n",
              "      <th>Control_type</th>\n",
              "      <th>Academic_Calender</th>\n",
              "      <th>Campus_setting</th>\n",
              "      <th>Estimated_cost_of_living_per_year_(in_pounds)</th>\n",
              "      <th>Latitude</th>\n",
              "      <th>Longitude</th>\n",
              "      <th>Website</th>\n",
              "    </tr>\n",
              "  </thead>\n",
              "  <tbody>\n",
              "    <tr>\n",
              "      <th>0</th>\n",
              "      <td>University of Cambridge</td>\n",
              "      <td>East of England</td>\n",
              "      <td>1209</td>\n",
              "      <td>1</td>\n",
              "      <td>4</td>\n",
              "      <td>94.1</td>\n",
              "      <td>6.5</td>\n",
              "      <td>21750</td>\n",
              "      <td>23187</td>\n",
              "      <td>20.20%</td>\n",
              "      <td>85.50%</td>\n",
              "      <td>20,000-24,999</td>\n",
              "      <td>over-5,000</td>\n",
              "      <td>Public</td>\n",
              "      <td>Trimesters</td>\n",
              "      <td>Urban</td>\n",
              "      <td>12000</td>\n",
              "      <td>52.2054</td>\n",
              "      <td>0.1132</td>\n",
              "      <td>www.cam.ac.uk</td>\n",
              "    </tr>\n",
              "    <tr>\n",
              "      <th>1</th>\n",
              "      <td>University of Oxford</td>\n",
              "      <td>South East England</td>\n",
              "      <td>1096</td>\n",
              "      <td>2</td>\n",
              "      <td>2</td>\n",
              "      <td>93.3</td>\n",
              "      <td>6.5</td>\n",
              "      <td>21770</td>\n",
              "      <td>19888</td>\n",
              "      <td>16.80%</td>\n",
              "      <td>86.50%</td>\n",
              "      <td>25,000-29,999</td>\n",
              "      <td>over-5,000</td>\n",
              "      <td>Public</td>\n",
              "      <td>Trimesters</td>\n",
              "      <td>Urban</td>\n",
              "      <td>11500</td>\n",
              "      <td>51.7548</td>\n",
              "      <td>-1.2544</td>\n",
              "      <td>www.ox.ac.uk</td>\n",
              "    </tr>\n",
              "    <tr>\n",
              "      <th>2</th>\n",
              "      <td>University of St Andrews</td>\n",
              "      <td>Scotland</td>\n",
              "      <td>1413</td>\n",
              "      <td>3</td>\n",
              "      <td>86</td>\n",
              "      <td>75.8</td>\n",
              "      <td>6.5</td>\n",
              "      <td>17040</td>\n",
              "      <td>15440</td>\n",
              "      <td>40.40%</td>\n",
              "      <td>87.90%</td>\n",
              "      <td>10,000-14,999</td>\n",
              "      <td>1,000-1,499</td>\n",
              "      <td>Public</td>\n",
              "      <td>Semesters</td>\n",
              "      <td>Suburban</td>\n",
              "      <td>12000</td>\n",
              "      <td>56.3417</td>\n",
              "      <td>-2.7943</td>\n",
              "      <td>www.st-andrews.ac.uk</td>\n",
              "    </tr>\n",
              "    <tr>\n",
              "      <th>3</th>\n",
              "      <td>Imperial College London</td>\n",
              "      <td>London</td>\n",
              "      <td>1907</td>\n",
              "      <td>4</td>\n",
              "      <td>8</td>\n",
              "      <td>86.6</td>\n",
              "      <td>6.5</td>\n",
              "      <td>23500</td>\n",
              "      <td>29900</td>\n",
              "      <td>41.40%</td>\n",
              "      <td>77.90%</td>\n",
              "      <td>15,000-19,999</td>\n",
              "      <td>4,000-4,499</td>\n",
              "      <td>Public</td>\n",
              "      <td>Continuous</td>\n",
              "      <td>Urban</td>\n",
              "      <td>10700</td>\n",
              "      <td>51.4988</td>\n",
              "      <td>-0.1749</td>\n",
              "      <td>www.ic.ac.uk</td>\n",
              "    </tr>\n",
              "    <tr>\n",
              "      <th>4</th>\n",
              "      <td>Loughborough University</td>\n",
              "      <td>East Midlands</td>\n",
              "      <td>1966</td>\n",
              "      <td>5</td>\n",
              "      <td>404</td>\n",
              "      <td>72.8</td>\n",
              "      <td>5.5</td>\n",
              "      <td>16400</td>\n",
              "      <td>16400</td>\n",
              "      <td>22.00%</td>\n",
              "      <td>85.80%</td>\n",
              "      <td>15,000-19,999</td>\n",
              "      <td>1,500-1,999</td>\n",
              "      <td>Public</td>\n",
              "      <td>Semesters</td>\n",
              "      <td>Suburban</td>\n",
              "      <td>9398</td>\n",
              "      <td>52.7650</td>\n",
              "      <td>-1.2321</td>\n",
              "      <td>www.lboro.ac.uk/</td>\n",
              "    </tr>\n",
              "  </tbody>\n",
              "</table>\n",
              "</div>\n",
              "      <button class=\"colab-df-convert\" onclick=\"convertToInteractive('df-c63c6504-29cc-447c-8f95-6d9de9bd5fd8')\"\n",
              "              title=\"Convert this dataframe to an interactive table.\"\n",
              "              style=\"display:none;\">\n",
              "        \n",
              "  <svg xmlns=\"http://www.w3.org/2000/svg\" height=\"24px\"viewBox=\"0 0 24 24\"\n",
              "       width=\"24px\">\n",
              "    <path d=\"M0 0h24v24H0V0z\" fill=\"none\"/>\n",
              "    <path d=\"M18.56 5.44l.94 2.06.94-2.06 2.06-.94-2.06-.94-.94-2.06-.94 2.06-2.06.94zm-11 1L8.5 8.5l.94-2.06 2.06-.94-2.06-.94L8.5 2.5l-.94 2.06-2.06.94zm10 10l.94 2.06.94-2.06 2.06-.94-2.06-.94-.94-2.06-.94 2.06-2.06.94z\"/><path d=\"M17.41 7.96l-1.37-1.37c-.4-.4-.92-.59-1.43-.59-.52 0-1.04.2-1.43.59L10.3 9.45l-7.72 7.72c-.78.78-.78 2.05 0 2.83L4 21.41c.39.39.9.59 1.41.59.51 0 1.02-.2 1.41-.59l7.78-7.78 2.81-2.81c.8-.78.8-2.07 0-2.86zM5.41 20L4 18.59l7.72-7.72 1.47 1.35L5.41 20z\"/>\n",
              "  </svg>\n",
              "      </button>\n",
              "      \n",
              "  <style>\n",
              "    .colab-df-container {\n",
              "      display:flex;\n",
              "      flex-wrap:wrap;\n",
              "      gap: 12px;\n",
              "    }\n",
              "\n",
              "    .colab-df-convert {\n",
              "      background-color: #E8F0FE;\n",
              "      border: none;\n",
              "      border-radius: 50%;\n",
              "      cursor: pointer;\n",
              "      display: none;\n",
              "      fill: #1967D2;\n",
              "      height: 32px;\n",
              "      padding: 0 0 0 0;\n",
              "      width: 32px;\n",
              "    }\n",
              "\n",
              "    .colab-df-convert:hover {\n",
              "      background-color: #E2EBFA;\n",
              "      box-shadow: 0px 1px 2px rgba(60, 64, 67, 0.3), 0px 1px 3px 1px rgba(60, 64, 67, 0.15);\n",
              "      fill: #174EA6;\n",
              "    }\n",
              "\n",
              "    [theme=dark] .colab-df-convert {\n",
              "      background-color: #3B4455;\n",
              "      fill: #D2E3FC;\n",
              "    }\n",
              "\n",
              "    [theme=dark] .colab-df-convert:hover {\n",
              "      background-color: #434B5C;\n",
              "      box-shadow: 0px 1px 3px 1px rgba(0, 0, 0, 0.15);\n",
              "      filter: drop-shadow(0px 1px 2px rgba(0, 0, 0, 0.3));\n",
              "      fill: #FFFFFF;\n",
              "    }\n",
              "  </style>\n",
              "\n",
              "      <script>\n",
              "        const buttonEl =\n",
              "          document.querySelector('#df-c63c6504-29cc-447c-8f95-6d9de9bd5fd8 button.colab-df-convert');\n",
              "        buttonEl.style.display =\n",
              "          google.colab.kernel.accessAllowed ? 'block' : 'none';\n",
              "\n",
              "        async function convertToInteractive(key) {\n",
              "          const element = document.querySelector('#df-c63c6504-29cc-447c-8f95-6d9de9bd5fd8');\n",
              "          const dataTable =\n",
              "            await google.colab.kernel.invokeFunction('convertToInteractive',\n",
              "                                                     [key], {});\n",
              "          if (!dataTable) return;\n",
              "\n",
              "          const docLinkHtml = 'Like what you see? Visit the ' +\n",
              "            '<a target=\"_blank\" href=https://colab.research.google.com/notebooks/data_table.ipynb>data table notebook</a>'\n",
              "            + ' to learn more about interactive tables.';\n",
              "          element.innerHTML = '';\n",
              "          dataTable['output_type'] = 'display_data';\n",
              "          await google.colab.output.renderOutput(dataTable, element);\n",
              "          const docLink = document.createElement('div');\n",
              "          docLink.innerHTML = docLinkHtml;\n",
              "          element.appendChild(docLink);\n",
              "        }\n",
              "      </script>\n",
              "    </div>\n",
              "  </div>\n",
              "  "
            ]
          },
          "metadata": {},
          "execution_count": 76
        }
      ]
    },
    {
      "cell_type": "markdown",
      "source": [
        "### Miscellaneous Cleaning"
      ],
      "metadata": {
        "id": "t8IuQ37VTbCB"
      }
    },
    {
      "cell_type": "markdown",
      "source": [
        "Now we'll try and address the missing values in the remaining three columns. First, we'll get rid of any rows that have more than 2 or more missing features."
      ],
      "metadata": {
        "id": "lNMOTjNMTKJ3"
      }
    },
    {
      "cell_type": "code",
      "source": [
        "# confirm expected shape\n",
        "df.shape"
      ],
      "metadata": {
        "colab": {
          "base_uri": "https://localhost:8080/"
        },
        "id": "4wFirnG6_Xur",
        "outputId": "fa773d0d-1a3c-4d55-e7fa-165f46484087"
      },
      "execution_count": 77,
      "outputs": [
        {
          "output_type": "execute_result",
          "data": {
            "text/plain": [
              "(131, 20)"
            ]
          },
          "metadata": {},
          "execution_count": 77
        }
      ]
    },
    {
      "cell_type": "code",
      "source": [
        "# find dataframe rows with 2 or more missing features\n",
        "df[df.isnull().sum(axis=1) >= 2].head()"
      ],
      "metadata": {
        "colab": {
          "base_uri": "https://localhost:8080/",
          "height": 427
        },
        "id": "L011e2K__XrU",
        "outputId": "dfc9a743-6523-4229-dc02-26f453f3c772"
      },
      "execution_count": 78,
      "outputs": [
        {
          "output_type": "execute_result",
          "data": {
            "text/plain": [
              "                     University_name              Region  Founded_year  \\\n",
              "37              University of Sussex  South East England          1961   \n",
              "41  University for the Creative Arts  South East England          2005   \n",
              "42       Arts University Bournemouth  South West England          1885   \n",
              "51         University of West London              London          1990   \n",
              "62    Norwich University of the Arts     East of England          1845   \n",
              "\n",
              "    UK_rank  World_rank  CWUR_score  Minimum_IELTS_score  \\\n",
              "37       38         140        77.7                  5.5   \n",
              "41       42        2030         NaN                  4.5   \n",
              "42       43        3420         NaN                  4.5   \n",
              "51       52        2319         NaN                  4.5   \n",
              "62       62        4300         NaN                  4.5   \n",
              "\n",
              "    UG_average_fees_(in_pounds)  PG_average_fees_(in_pounds)  \\\n",
              "37                        14450                        14450   \n",
              "41                        11870                        12150   \n",
              "42                        12500                        12500   \n",
              "51                        10650                        10995   \n",
              "62                        12500                        13000   \n",
              "\n",
              "   International_students Student_satisfaction Student_enrollment  \\\n",
              "37                 27.20%               76.40%      15,000-19,999   \n",
              "41                 11.70%               78.00%        6,000-6,999   \n",
              "42                 13.60%               82.90%        3,000-3,999   \n",
              "51                 17.20%               84.70%      10,000-14,999   \n",
              "62                  4.90%               77.70%        2,000-2,999   \n",
              "\n",
              "   Academic_staff Control_type Academic_Calender Campus_setting  \\\n",
              "37    2,000-2,499       Public               NaN            NaN   \n",
              "41        300-399       Public               NaN            NaN   \n",
              "42        300-399       Public               NaN            NaN   \n",
              "51    1,000-1,499       Public         Semesters            NaN   \n",
              "62        200-299       Public               NaN          Urban   \n",
              "\n",
              "    Estimated_cost_of_living_per_year_(in_pounds)  Latitude  Longitude  \\\n",
              "37                                          12500   50.8677    -0.0875   \n",
              "41                                           8990   51.2151    -0.8054   \n",
              "42                                           6000   50.7417    -1.8977   \n",
              "51                                          10000   51.5069    -0.3032   \n",
              "62                                           9415   52.6302     1.2967   \n",
              "\n",
              "                Website  \n",
              "37     www.sussex.ac.uk  \n",
              "41  www.ucreative.co.uk  \n",
              "42            aub.ac.uk  \n",
              "51        www.uwl.ac.uk  \n",
              "62       www.nua.ac.uk/  "
            ],
            "text/html": [
              "\n",
              "  <div id=\"df-32a3c420-2628-4053-a6c9-15b5cfaf3c5c\">\n",
              "    <div class=\"colab-df-container\">\n",
              "      <div>\n",
              "<style scoped>\n",
              "    .dataframe tbody tr th:only-of-type {\n",
              "        vertical-align: middle;\n",
              "    }\n",
              "\n",
              "    .dataframe tbody tr th {\n",
              "        vertical-align: top;\n",
              "    }\n",
              "\n",
              "    .dataframe thead th {\n",
              "        text-align: right;\n",
              "    }\n",
              "</style>\n",
              "<table border=\"1\" class=\"dataframe\">\n",
              "  <thead>\n",
              "    <tr style=\"text-align: right;\">\n",
              "      <th></th>\n",
              "      <th>University_name</th>\n",
              "      <th>Region</th>\n",
              "      <th>Founded_year</th>\n",
              "      <th>UK_rank</th>\n",
              "      <th>World_rank</th>\n",
              "      <th>CWUR_score</th>\n",
              "      <th>Minimum_IELTS_score</th>\n",
              "      <th>UG_average_fees_(in_pounds)</th>\n",
              "      <th>PG_average_fees_(in_pounds)</th>\n",
              "      <th>International_students</th>\n",
              "      <th>Student_satisfaction</th>\n",
              "      <th>Student_enrollment</th>\n",
              "      <th>Academic_staff</th>\n",
              "      <th>Control_type</th>\n",
              "      <th>Academic_Calender</th>\n",
              "      <th>Campus_setting</th>\n",
              "      <th>Estimated_cost_of_living_per_year_(in_pounds)</th>\n",
              "      <th>Latitude</th>\n",
              "      <th>Longitude</th>\n",
              "      <th>Website</th>\n",
              "    </tr>\n",
              "  </thead>\n",
              "  <tbody>\n",
              "    <tr>\n",
              "      <th>37</th>\n",
              "      <td>University of Sussex</td>\n",
              "      <td>South East England</td>\n",
              "      <td>1961</td>\n",
              "      <td>38</td>\n",
              "      <td>140</td>\n",
              "      <td>77.7</td>\n",
              "      <td>5.5</td>\n",
              "      <td>14450</td>\n",
              "      <td>14450</td>\n",
              "      <td>27.20%</td>\n",
              "      <td>76.40%</td>\n",
              "      <td>15,000-19,999</td>\n",
              "      <td>2,000-2,499</td>\n",
              "      <td>Public</td>\n",
              "      <td>NaN</td>\n",
              "      <td>NaN</td>\n",
              "      <td>12500</td>\n",
              "      <td>50.8677</td>\n",
              "      <td>-0.0875</td>\n",
              "      <td>www.sussex.ac.uk</td>\n",
              "    </tr>\n",
              "    <tr>\n",
              "      <th>41</th>\n",
              "      <td>University for the Creative Arts</td>\n",
              "      <td>South East England</td>\n",
              "      <td>2005</td>\n",
              "      <td>42</td>\n",
              "      <td>2030</td>\n",
              "      <td>NaN</td>\n",
              "      <td>4.5</td>\n",
              "      <td>11870</td>\n",
              "      <td>12150</td>\n",
              "      <td>11.70%</td>\n",
              "      <td>78.00%</td>\n",
              "      <td>6,000-6,999</td>\n",
              "      <td>300-399</td>\n",
              "      <td>Public</td>\n",
              "      <td>NaN</td>\n",
              "      <td>NaN</td>\n",
              "      <td>8990</td>\n",
              "      <td>51.2151</td>\n",
              "      <td>-0.8054</td>\n",
              "      <td>www.ucreative.co.uk</td>\n",
              "    </tr>\n",
              "    <tr>\n",
              "      <th>42</th>\n",
              "      <td>Arts University Bournemouth</td>\n",
              "      <td>South West England</td>\n",
              "      <td>1885</td>\n",
              "      <td>43</td>\n",
              "      <td>3420</td>\n",
              "      <td>NaN</td>\n",
              "      <td>4.5</td>\n",
              "      <td>12500</td>\n",
              "      <td>12500</td>\n",
              "      <td>13.60%</td>\n",
              "      <td>82.90%</td>\n",
              "      <td>3,000-3,999</td>\n",
              "      <td>300-399</td>\n",
              "      <td>Public</td>\n",
              "      <td>NaN</td>\n",
              "      <td>NaN</td>\n",
              "      <td>6000</td>\n",
              "      <td>50.7417</td>\n",
              "      <td>-1.8977</td>\n",
              "      <td>aub.ac.uk</td>\n",
              "    </tr>\n",
              "    <tr>\n",
              "      <th>51</th>\n",
              "      <td>University of West London</td>\n",
              "      <td>London</td>\n",
              "      <td>1990</td>\n",
              "      <td>52</td>\n",
              "      <td>2319</td>\n",
              "      <td>NaN</td>\n",
              "      <td>4.5</td>\n",
              "      <td>10650</td>\n",
              "      <td>10995</td>\n",
              "      <td>17.20%</td>\n",
              "      <td>84.70%</td>\n",
              "      <td>10,000-14,999</td>\n",
              "      <td>1,000-1,499</td>\n",
              "      <td>Public</td>\n",
              "      <td>Semesters</td>\n",
              "      <td>NaN</td>\n",
              "      <td>10000</td>\n",
              "      <td>51.5069</td>\n",
              "      <td>-0.3032</td>\n",
              "      <td>www.uwl.ac.uk</td>\n",
              "    </tr>\n",
              "    <tr>\n",
              "      <th>62</th>\n",
              "      <td>Norwich University of the Arts</td>\n",
              "      <td>East of England</td>\n",
              "      <td>1845</td>\n",
              "      <td>62</td>\n",
              "      <td>4300</td>\n",
              "      <td>NaN</td>\n",
              "      <td>4.5</td>\n",
              "      <td>12500</td>\n",
              "      <td>13000</td>\n",
              "      <td>4.90%</td>\n",
              "      <td>77.70%</td>\n",
              "      <td>2,000-2,999</td>\n",
              "      <td>200-299</td>\n",
              "      <td>Public</td>\n",
              "      <td>NaN</td>\n",
              "      <td>Urban</td>\n",
              "      <td>9415</td>\n",
              "      <td>52.6302</td>\n",
              "      <td>1.2967</td>\n",
              "      <td>www.nua.ac.uk/</td>\n",
              "    </tr>\n",
              "  </tbody>\n",
              "</table>\n",
              "</div>\n",
              "      <button class=\"colab-df-convert\" onclick=\"convertToInteractive('df-32a3c420-2628-4053-a6c9-15b5cfaf3c5c')\"\n",
              "              title=\"Convert this dataframe to an interactive table.\"\n",
              "              style=\"display:none;\">\n",
              "        \n",
              "  <svg xmlns=\"http://www.w3.org/2000/svg\" height=\"24px\"viewBox=\"0 0 24 24\"\n",
              "       width=\"24px\">\n",
              "    <path d=\"M0 0h24v24H0V0z\" fill=\"none\"/>\n",
              "    <path d=\"M18.56 5.44l.94 2.06.94-2.06 2.06-.94-2.06-.94-.94-2.06-.94 2.06-2.06.94zm-11 1L8.5 8.5l.94-2.06 2.06-.94-2.06-.94L8.5 2.5l-.94 2.06-2.06.94zm10 10l.94 2.06.94-2.06 2.06-.94-2.06-.94-.94-2.06-.94 2.06-2.06.94z\"/><path d=\"M17.41 7.96l-1.37-1.37c-.4-.4-.92-.59-1.43-.59-.52 0-1.04.2-1.43.59L10.3 9.45l-7.72 7.72c-.78.78-.78 2.05 0 2.83L4 21.41c.39.39.9.59 1.41.59.51 0 1.02-.2 1.41-.59l7.78-7.78 2.81-2.81c.8-.78.8-2.07 0-2.86zM5.41 20L4 18.59l7.72-7.72 1.47 1.35L5.41 20z\"/>\n",
              "  </svg>\n",
              "      </button>\n",
              "      \n",
              "  <style>\n",
              "    .colab-df-container {\n",
              "      display:flex;\n",
              "      flex-wrap:wrap;\n",
              "      gap: 12px;\n",
              "    }\n",
              "\n",
              "    .colab-df-convert {\n",
              "      background-color: #E8F0FE;\n",
              "      border: none;\n",
              "      border-radius: 50%;\n",
              "      cursor: pointer;\n",
              "      display: none;\n",
              "      fill: #1967D2;\n",
              "      height: 32px;\n",
              "      padding: 0 0 0 0;\n",
              "      width: 32px;\n",
              "    }\n",
              "\n",
              "    .colab-df-convert:hover {\n",
              "      background-color: #E2EBFA;\n",
              "      box-shadow: 0px 1px 2px rgba(60, 64, 67, 0.3), 0px 1px 3px 1px rgba(60, 64, 67, 0.15);\n",
              "      fill: #174EA6;\n",
              "    }\n",
              "\n",
              "    [theme=dark] .colab-df-convert {\n",
              "      background-color: #3B4455;\n",
              "      fill: #D2E3FC;\n",
              "    }\n",
              "\n",
              "    [theme=dark] .colab-df-convert:hover {\n",
              "      background-color: #434B5C;\n",
              "      box-shadow: 0px 1px 3px 1px rgba(0, 0, 0, 0.15);\n",
              "      filter: drop-shadow(0px 1px 2px rgba(0, 0, 0, 0.3));\n",
              "      fill: #FFFFFF;\n",
              "    }\n",
              "  </style>\n",
              "\n",
              "      <script>\n",
              "        const buttonEl =\n",
              "          document.querySelector('#df-32a3c420-2628-4053-a6c9-15b5cfaf3c5c button.colab-df-convert');\n",
              "        buttonEl.style.display =\n",
              "          google.colab.kernel.accessAllowed ? 'block' : 'none';\n",
              "\n",
              "        async function convertToInteractive(key) {\n",
              "          const element = document.querySelector('#df-32a3c420-2628-4053-a6c9-15b5cfaf3c5c');\n",
              "          const dataTable =\n",
              "            await google.colab.kernel.invokeFunction('convertToInteractive',\n",
              "                                                     [key], {});\n",
              "          if (!dataTable) return;\n",
              "\n",
              "          const docLinkHtml = 'Like what you see? Visit the ' +\n",
              "            '<a target=\"_blank\" href=https://colab.research.google.com/notebooks/data_table.ipynb>data table notebook</a>'\n",
              "            + ' to learn more about interactive tables.';\n",
              "          element.innerHTML = '';\n",
              "          dataTable['output_type'] = 'display_data';\n",
              "          await google.colab.output.renderOutput(dataTable, element);\n",
              "          const docLink = document.createElement('div');\n",
              "          docLink.innerHTML = docLinkHtml;\n",
              "          element.appendChild(docLink);\n",
              "        }\n",
              "      </script>\n",
              "    </div>\n",
              "  </div>\n",
              "  "
            ]
          },
          "metadata": {},
          "execution_count": 78
        }
      ]
    },
    {
      "cell_type": "code",
      "source": [
        "# find indices\n",
        "twoEmpty_indx = df.index[df.isnull().sum(axis=1) >= 2]\n",
        "print(twoEmpty_indx)"
      ],
      "metadata": {
        "colab": {
          "base_uri": "https://localhost:8080/"
        },
        "id": "8RGtllMl_XoQ",
        "outputId": "c861f065-8c8c-4382-e9bb-6783fd9396c2"
      },
      "execution_count": 79,
      "outputs": [
        {
          "output_type": "stream",
          "name": "stdout",
          "text": [
            "Int64Index([ 37,  41,  42,  51,  62,  70,  71,  75,  79,  80,  84,  86,  91,\n",
            "            102, 103, 109, 114, 115, 120, 128, 129],\n",
            "           dtype='int64')\n"
          ]
        }
      ]
    },
    {
      "cell_type": "code",
      "source": [
        "# drop rows\n",
        "df = df.drop(twoEmpty_indx, axis=0)"
      ],
      "metadata": {
        "id": "KuKjX2Bi_Xkh"
      },
      "execution_count": 80,
      "outputs": []
    },
    {
      "cell_type": "code",
      "source": [
        "# confirm expected shape\n",
        "df.shape"
      ],
      "metadata": {
        "colab": {
          "base_uri": "https://localhost:8080/"
        },
        "id": "-l1hWylf_XhY",
        "outputId": "764160e4-ae49-4ce2-c682-f2fd0d7da5f0"
      },
      "execution_count": 81,
      "outputs": [
        {
          "output_type": "execute_result",
          "data": {
            "text/plain": [
              "(110, 20)"
            ]
          },
          "metadata": {},
          "execution_count": 81
        }
      ]
    },
    {
      "cell_type": "markdown",
      "source": [
        "Now let's have another look at the missing data:"
      ],
      "metadata": {
        "id": "2HL6FOWAXam4"
      }
    },
    {
      "cell_type": "code",
      "source": [
        "# check the number of null entries in each column\n",
        "df.isnull().sum()"
      ],
      "metadata": {
        "colab": {
          "base_uri": "https://localhost:8080/"
        },
        "id": "EJEt7HnZ_XeA",
        "outputId": "3fa6ccc7-b859-4053-f205-ae04cb3929c7"
      },
      "execution_count": 82,
      "outputs": [
        {
          "output_type": "execute_result",
          "data": {
            "text/plain": [
              "University_name                                   0\n",
              "Region                                            0\n",
              "Founded_year                                      0\n",
              "UK_rank                                           0\n",
              "World_rank                                        0\n",
              "CWUR_score                                       28\n",
              "Minimum_IELTS_score                               0\n",
              "UG_average_fees_(in_pounds)                       0\n",
              "PG_average_fees_(in_pounds)                       0\n",
              "International_students                            0\n",
              "Student_satisfaction                              0\n",
              "Student_enrollment                                0\n",
              "Academic_staff                                    0\n",
              "Control_type                                      0\n",
              "Academic_Calender                                 6\n",
              "Campus_setting                                    8\n",
              "Estimated_cost_of_living_per_year_(in_pounds)     0\n",
              "Latitude                                          0\n",
              "Longitude                                         0\n",
              "Website                                           0\n",
              "dtype: int64"
            ]
          },
          "metadata": {},
          "execution_count": 82
        }
      ]
    },
    {
      "cell_type": "markdown",
      "source": [
        "We're still missing quite a few records from '**CWUR_score**', so we'll drop those as well."
      ],
      "metadata": {
        "id": "8VtIjY0bZaoF"
      }
    },
    {
      "cell_type": "code",
      "source": [
        "# drop any outstanding rows with no CWUR_score.\n",
        "df = df.drop(df.index[df['CWUR_score'].isna()], axis=0)"
      ],
      "metadata": {
        "id": "0KVB3OQa_Xah"
      },
      "execution_count": 83,
      "outputs": []
    },
    {
      "cell_type": "markdown",
      "source": [
        "We'll also drop the outstanding '**Academic_Calender**' and '**Campus_setting**' data. At this point, we **could** do some data sourcing to see if we can fill in the missing data manually, but for now, we'll proceed by just removing the records with data missing. If model performance isn't sufficient, we can re-assess the data removal at this stage."
      ],
      "metadata": {
        "id": "ypUCsXRS7pyY"
      }
    },
    {
      "cell_type": "code",
      "source": [
        "# remove records with missing academic calendar status\n",
        "df = df.drop(df.index[df['Academic_Calender'].isna()], axis=0)\n",
        "# remove entries with missing campus setting status\n",
        "df = df.drop(df.index[df['Campus_setting'].isna()], axis=0)"
      ],
      "metadata": {
        "id": "Fx0_TgMM8vbQ"
      },
      "execution_count": 84,
      "outputs": []
    },
    {
      "cell_type": "code",
      "source": [
        "# confirm operation\n",
        "df.isnull().sum()"
      ],
      "metadata": {
        "colab": {
          "base_uri": "https://localhost:8080/"
        },
        "id": "d_G4mcl5_Wv7",
        "outputId": "ca606511-adfa-49f9-87c6-5570b39ae87a"
      },
      "execution_count": 85,
      "outputs": [
        {
          "output_type": "execute_result",
          "data": {
            "text/plain": [
              "University_name                                  0\n",
              "Region                                           0\n",
              "Founded_year                                     0\n",
              "UK_rank                                          0\n",
              "World_rank                                       0\n",
              "CWUR_score                                       0\n",
              "Minimum_IELTS_score                              0\n",
              "UG_average_fees_(in_pounds)                      0\n",
              "PG_average_fees_(in_pounds)                      0\n",
              "International_students                           0\n",
              "Student_satisfaction                             0\n",
              "Student_enrollment                               0\n",
              "Academic_staff                                   0\n",
              "Control_type                                     0\n",
              "Academic_Calender                                0\n",
              "Campus_setting                                   0\n",
              "Estimated_cost_of_living_per_year_(in_pounds)    0\n",
              "Latitude                                         0\n",
              "Longitude                                        0\n",
              "Website                                          0\n",
              "dtype: int64"
            ]
          },
          "metadata": {},
          "execution_count": 85
        }
      ]
    },
    {
      "cell_type": "markdown",
      "source": [
        "And with that all the missing data has been addressed. There are still some issues we'd like to address. For one, there are still several numerical data fields currently instantiated as string objects. We'll treat those next. "
      ],
      "metadata": {
        "id": "qnEf_Cu49I0s"
      }
    },
    {
      "cell_type": "markdown",
      "source": [
        "# Feature Cleaning"
      ],
      "metadata": {
        "id": "xoW_k7Im-Lr4"
      }
    },
    {
      "cell_type": "markdown",
      "source": [
        "Reminding ourselves of the dataframe construction at this point. We should now have 68 entries remaining.\n",
        "- Some concerns that we might have cut too much data, but we'll push on for now. "
      ],
      "metadata": {
        "id": "A6kXUDI4-2KS"
      }
    },
    {
      "cell_type": "code",
      "source": [
        "# datatype refresher\n",
        "df.info()"
      ],
      "metadata": {
        "id": "5GgdD00XaOpE",
        "colab": {
          "base_uri": "https://localhost:8080/"
        },
        "outputId": "5b1367df-1886-4340-edea-ab5876604c06"
      },
      "execution_count": 86,
      "outputs": [
        {
          "output_type": "stream",
          "name": "stdout",
          "text": [
            "<class 'pandas.core.frame.DataFrame'>\n",
            "Int64Index: 68 entries, 0 to 122\n",
            "Data columns (total 20 columns):\n",
            " #   Column                                         Non-Null Count  Dtype  \n",
            "---  ------                                         --------------  -----  \n",
            " 0   University_name                                68 non-null     object \n",
            " 1   Region                                         68 non-null     object \n",
            " 2   Founded_year                                   68 non-null     int64  \n",
            " 3   UK_rank                                        68 non-null     int64  \n",
            " 4   World_rank                                     68 non-null     int64  \n",
            " 5   CWUR_score                                     68 non-null     float64\n",
            " 6   Minimum_IELTS_score                            68 non-null     float64\n",
            " 7   UG_average_fees_(in_pounds)                    68 non-null     int64  \n",
            " 8   PG_average_fees_(in_pounds)                    68 non-null     int64  \n",
            " 9   International_students                         68 non-null     object \n",
            " 10  Student_satisfaction                           68 non-null     object \n",
            " 11  Student_enrollment                             68 non-null     object \n",
            " 12  Academic_staff                                 68 non-null     object \n",
            " 13  Control_type                                   68 non-null     object \n",
            " 14  Academic_Calender                              68 non-null     object \n",
            " 15  Campus_setting                                 68 non-null     object \n",
            " 16  Estimated_cost_of_living_per_year_(in_pounds)  68 non-null     int64  \n",
            " 17  Latitude                                       68 non-null     float64\n",
            " 18  Longitude                                      68 non-null     float64\n",
            " 19  Website                                        68 non-null     object \n",
            "dtypes: float64(4), int64(6), object(10)\n",
            "memory usage: 11.2+ KB\n"
          ]
        }
      ]
    },
    {
      "cell_type": "markdown",
      "source": [
        "The problematic features occupy the column indices 9-12. After inspecting the data, it's clear that these columns require numerical datatypes."
      ],
      "metadata": {
        "id": "WOZyzpBbAufR"
      }
    },
    {
      "cell_type": "markdown",
      "source": [
        "## '**International_students**' and '**Student_satisfaction**' Columns"
      ],
      "metadata": {
        "id": "2ZxrXNylBzNZ"
      }
    },
    {
      "cell_type": "markdown",
      "source": [
        "Both of these columns contain strings ending with a percentage symbol. We'll have to define a function to reformat the string data so that we can get rid of the percentage symbol before converting to a float."
      ],
      "metadata": {
        "id": "aMX0TSkfIdTw"
      }
    },
    {
      "cell_type": "code",
      "source": [
        "# function to remove percentage sign from a string\n",
        "def remove_percent(str):\n",
        "  return ''.join([char for char in str if '%' not in char])"
      ],
      "metadata": {
        "id": "JFKjTePvIJm4"
      },
      "execution_count": 94,
      "outputs": []
    },
    {
      "cell_type": "code",
      "source": [
        "# confirm string structure\n",
        "df['International_students']"
      ],
      "metadata": {
        "colab": {
          "base_uri": "https://localhost:8080/"
        },
        "id": "y6-bjBjkCskl",
        "outputId": "744d0cec-bd71-4166-cf4b-4f60b6fef61e"
      },
      "execution_count": 121,
      "outputs": [
        {
          "output_type": "execute_result",
          "data": {
            "text/plain": [
              "0      20.20%\n",
              "1      16.80%\n",
              "2      40.40%\n",
              "3      41.40%\n",
              "4      22.00%\n",
              "        ...  \n",
              "107     5.20%\n",
              "110    11.10%\n",
              "118    21.10%\n",
              "119    10.40%\n",
              "122     5.70%\n",
              "Name: International_students, Length: 68, dtype: object"
            ]
          },
          "metadata": {},
          "execution_count": 121
        }
      ]
    },
    {
      "cell_type": "code",
      "source": [
        "# pull out the percentage sign and convert to the appropriate numeric datatype\n",
        "df['International_students'] = pd.to_numeric(df['International_students'].apply(lambda x: remove_percent(x)))\n",
        "df['Student_satisfaction'] = pd.to_numeric(df['Student_satisfaction'].apply(lambda x: remove_percent(x)))\n",
        "# confirm expected operation\n",
        "print(df[['International_students','Student_satisfaction']])"
      ],
      "metadata": {
        "colab": {
          "base_uri": "https://localhost:8080/"
        },
        "id": "zx745opc-kIR",
        "outputId": "836c1907-680e-4b25-d41e-eb2b9916fa53"
      },
      "execution_count": 122,
      "outputs": [
        {
          "output_type": "stream",
          "name": "stdout",
          "text": [
            "     International_students  Student_satisfaction\n",
            "0                      20.2                  85.5\n",
            "1                      16.8                  86.5\n",
            "2                      40.4                  87.9\n",
            "3                      41.4                  77.9\n",
            "4                      22.0                  85.8\n",
            "..                      ...                   ...\n",
            "107                     5.2                  78.0\n",
            "110                    11.1                  76.8\n",
            "118                    21.1                  75.1\n",
            "119                    10.4                  79.0\n",
            "122                     5.7                  79.3\n",
            "\n",
            "[68 rows x 2 columns]\n"
          ]
        }
      ]
    },
    {
      "cell_type": "markdown",
      "source": [
        "## '**Student_enrollment**' Column"
      ],
      "metadata": {
        "id": "Xrf2fXM3GYrg"
      }
    },
    {
      "cell_type": "markdown",
      "source": [
        "For the '**Student_enrollment**' column, we'll need slightly different reformating protocol."
      ],
      "metadata": {
        "id": "A6DVuuExMUz6"
      }
    },
    {
      "cell_type": "code",
      "source": [
        "# check string format\n",
        "df['Student_enrollment']"
      ],
      "metadata": {
        "colab": {
          "base_uri": "https://localhost:8080/"
        },
        "id": "SrLthUYwDpvS",
        "outputId": "05fd3cd9-450e-47df-fc0d-5344d3b0430a"
      },
      "execution_count": 123,
      "outputs": [
        {
          "output_type": "execute_result",
          "data": {
            "text/plain": [
              "0      20,000-24,999\n",
              "1      25,000-29,999\n",
              "2      10,000-14,999\n",
              "3      15,000-19,999\n",
              "4      15,000-19,999\n",
              "           ...      \n",
              "107    15,000-19,999\n",
              "110    20,000-24,999\n",
              "118    15,000-19,999\n",
              "119    20,000-24,999\n",
              "122    20,000-24,999\n",
              "Name: Student_enrollment, Length: 68, dtype: object"
            ]
          },
          "metadata": {},
          "execution_count": 123
        }
      ]
    },
    {
      "cell_type": "markdown",
      "source": [
        "Our reformatting function here will separate the strings - which represent a range of values - into upper and lower bounds. After converting both numbers to floats, we can compute a simple average and return the processed data to the dataframe.\n",
        "- Note: the function will also have to remove the commmas "
      ],
      "metadata": {
        "id": "oUt8vGKpPOZq"
      }
    },
    {
      "cell_type": "code",
      "source": [
        "# calculates an avergae using the upper and lower bounds of a defined range\n",
        "def average_from_range(str):\n",
        "  # remove all commas\n",
        "  commas_removed = str.replace(',','')\n",
        "  # split on the hyphen, to get the upper and lower bounds\n",
        "  lower_bound = float(commas_removed.split('-')[0])\n",
        "  upper_bound = float(commas_removed.split('-')[1])\n",
        "  # return the average\n",
        "  return (lower_bound + upper_bound) / 2"
      ],
      "metadata": {
        "id": "8yi36vyVNt6y"
      },
      "execution_count": 144,
      "outputs": []
    },
    {
      "cell_type": "markdown",
      "source": [
        "Now we'll apply the transformation.\n",
        "- Note: Conversion to a numeric datatype happens internally within the function space when evaluating the average, so we don't need an explcit 'to_numeric' call on the dataframe."
      ],
      "metadata": {
        "id": "ymPkjBnKQKdp"
      }
    },
    {
      "cell_type": "code",
      "source": [
        "# convert ranges to averages\n",
        "df['Student_enrollment'] = df['Student_enrollment'].apply(lambda x: average_from_range(x))\n",
        "# confirm expected operation\n",
        "print(df['Student_enrollment'])"
      ],
      "metadata": {
        "colab": {
          "base_uri": "https://localhost:8080/"
        },
        "id": "187AwoAkQJ9k",
        "outputId": "cd0cac45-5099-487b-939a-85d8d7b5c33d"
      },
      "execution_count": 145,
      "outputs": [
        {
          "output_type": "stream",
          "name": "stdout",
          "text": [
            "0      22499.5\n",
            "1      27499.5\n",
            "2      12499.5\n",
            "3      17499.5\n",
            "4      17499.5\n",
            "        ...   \n",
            "107    17499.5\n",
            "110    22499.5\n",
            "118    17499.5\n",
            "119    22499.5\n",
            "122    22499.5\n",
            "Name: Student_enrollment, Length: 68, dtype: float64\n"
          ]
        }
      ]
    },
    {
      "cell_type": "markdown",
      "source": [
        "## '**Academic_staff**' Column"
      ],
      "metadata": {
        "id": "8bDaaPtqGZBw"
      }
    },
    {
      "cell_type": "code",
      "source": [
        "\n",
        "test = '20,000-24,999'"
      ],
      "metadata": {
        "id": "bAw52NmmDrbB"
      },
      "execution_count": 127,
      "outputs": []
    },
    {
      "cell_type": "code",
      "source": [
        "a, b = test.replace(',','').split('-')"
      ],
      "metadata": {
        "colab": {
          "base_uri": "https://localhost:8080/",
          "height": 165
        },
        "id": "U2BB8nPnMwPy",
        "outputId": "ab5f56be-5b88-4864-c4fd-7ccaafc0b4ef"
      },
      "execution_count": 142,
      "outputs": [
        {
          "output_type": "error",
          "ename": "TypeError",
          "evalue": "ignored",
          "traceback": [
            "\u001b[0;31m---------------------------------------------------------------------------\u001b[0m",
            "\u001b[0;31mTypeError\u001b[0m                                 Traceback (most recent call last)",
            "\u001b[0;32m<ipython-input-142-08678f88f115>\u001b[0m in \u001b[0;36m<cell line: 1>\u001b[0;34m()\u001b[0m\n\u001b[0;32m----> 1\u001b[0;31m \u001b[0ma\u001b[0m\u001b[0;34m,\u001b[0m \u001b[0mb\u001b[0m \u001b[0;34m=\u001b[0m \u001b[0mfloat\u001b[0m\u001b[0;34m(\u001b[0m\u001b[0mtest\u001b[0m\u001b[0;34m.\u001b[0m\u001b[0mreplace\u001b[0m\u001b[0;34m(\u001b[0m\u001b[0;34m','\u001b[0m\u001b[0;34m,\u001b[0m\u001b[0;34m''\u001b[0m\u001b[0;34m)\u001b[0m\u001b[0;34m.\u001b[0m\u001b[0msplit\u001b[0m\u001b[0;34m(\u001b[0m\u001b[0;34m'-'\u001b[0m\u001b[0;34m)\u001b[0m\u001b[0;34m)\u001b[0m\u001b[0;34m\u001b[0m\u001b[0;34m\u001b[0m\u001b[0m\n\u001b[0m",
            "\u001b[0;31mTypeError\u001b[0m: float() argument must be a string or a real number, not 'list'"
          ]
        }
      ]
    },
    {
      "cell_type": "code",
      "source": [
        "a"
      ],
      "metadata": {
        "colab": {
          "base_uri": "https://localhost:8080/",
          "height": 36
        },
        "id": "9fDBI55AMzWJ",
        "outputId": "055e9d0f-c8a2-40f1-d771-05d52a000a86"
      },
      "execution_count": 135,
      "outputs": [
        {
          "output_type": "execute_result",
          "data": {
            "text/plain": [
              "'20000'"
            ],
            "application/vnd.google.colaboratory.intrinsic+json": {
              "type": "string"
            }
          },
          "metadata": {},
          "execution_count": 135
        }
      ]
    },
    {
      "cell_type": "code",
      "source": [
        "float('20.23')"
      ],
      "metadata": {
        "colab": {
          "base_uri": "https://localhost:8080/"
        },
        "id": "sx-EwzS4M0mZ",
        "outputId": "00f9bacd-1160-4515-b8e8-249d0814b59e"
      },
      "execution_count": 141,
      "outputs": [
        {
          "output_type": "execute_result",
          "data": {
            "text/plain": [
              "20.23"
            ]
          },
          "metadata": {},
          "execution_count": 141
        }
      ]
    },
    {
      "cell_type": "code",
      "source": [],
      "metadata": {
        "id": "4hiTjlArOHNq"
      },
      "execution_count": null,
      "outputs": []
    }
  ]
}